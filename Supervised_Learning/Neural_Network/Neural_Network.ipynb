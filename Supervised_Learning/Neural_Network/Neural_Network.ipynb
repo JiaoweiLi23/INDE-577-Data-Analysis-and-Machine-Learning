{
 "cells": [
  {
   "cell_type": "markdown",
   "id": "64e961a7",
   "metadata": {},
   "source": [
    "# Neural Network\n",
    "Neural networks are a cornerstone of modern AI and machine learning, offering powerful tools to model and understand complex patterns in data. They have a wide range of applications but also come with challenges like computational demands and the risk of overfitting. Understanding the basics of how they work, their structure, and their applications is essential for anyone interested in the field of machine learning.\n",
    "Neural networks are a fascinating and fundamental concept in machine learning and artificial intelligence. They are inspired by the structure and function of the brain and are designed to recognize patterns in data. Here's a comprehensive introduction to neural networks:\n",
    "\n",
    "## 1. Structure of Neural Network\n",
    "   - **Neurons**: The basic unit of a neural network is the neuron, often called a node or unit. It receives input from some other nodes, or from an external source and computes an output.\n",
    "   - **Layers**: Each neural network consists of layers:\n",
    "     - **Input Layer**: The layer that receives input.\n",
    "     - **Hidden Layers**: Layers that perform computations and transfer information from the input to the output. A network may have multiple hidden layers.\n",
    "     - **Output Layer**: The layer that produces the final output.\n",
    "### Idea\n",
    "   - Data is fed into the input layer.\n",
    "   - Each input is assigned a weight (a measure of its importance).\n",
    "   - In each neuron, an activation function defines the output given a set of inputs, weights, and biases.\n",
    "   - The process continues through the network until the output layer is reached. The output layer makes a decision or prediction about the input.\n",
    "\n",
    "## 2. Algorithm\n",
    "In this Jupyter notebook, we will build a multilayer perceptron from scratch. First, let we know the algorithm.\n",
    "\n",
    "### Multilayer Perceptron (MLP) \n",
    "\n",
    "#### Step 1: Initialize Network\n",
    "1. Define the network structure (number of input units, number of hidden layers, number of units in each hidden layer, and number of output units).\n",
    "2. Initialize weights and biases for all layers (usually with small random values).\n",
    "\n",
    "#### Step 2: Forward Propagation\n",
    "1. For each input in the training set:\n",
    "   - Propagate the input forward through the network.\n",
    "   - For each layer, compute the net input:\n",
    "     - $ Z^{[l]} = W^{[l]}A^{[l-1]} + b^{[l]} $ (where $ W^{[l]} $ and $ b^{[l]} $ are the weights and biases for layer $ l $, and $ A^{[l-1]}$  is the activation from the previous layer).\n",
    "   - Apply the activation function:\n",
    "     - $A^{[l]} = f(Z^{[l]}) $ (where $f $is an activation function like sigmoid, ReLU, or softmax).\n",
    "     - In this Jupyter notebook, we choose sigmoid as our activation function:\n",
    "$$\n",
    "\\sigma(z) = \\frac{1}{1+e^{-z}}.\n",
    "$$\n",
    "\n",
    "#### Step 3: Cost function\n",
    "1. After the forward pass, calculate the cost function at the output.\n",
    "   - For classification, this might involve calculating the cross-entropy loss.\n",
    "   - For regression, this might involve calculating the mean squared error.\n",
    "   - In this Jupyter notebook, we will choose Mean Squared Error(MSE) as our cost function.\n",
    "   $$\n",
    "C(W, b) = \\frac{1}{2n}\\sum_{k=1}^{n}(\\hat{y}^{(i)}_k - y^{(i)}_k)^2.\n",
    "$$\n",
    "\n",
    "#### Step 4: Backpropagation\n",
    "1. Calculate the gradient of the error with respect to each weight and bias in the network (gradient of the loss function).\n",
    "2. Update the network weights and biases:\n",
    "   - $ W^{[l]} = W^{[l]} - \\alpha \\frac{\\partial \\text{Loss}}{\\partial W^{[l]}} $\n",
    "   - $ b^{[l]} = b^{[l]} - \\alpha \\frac{\\partial \\text{Loss}}{\\partial b^{[l]}} $\n",
    "   - $ \\alpha $ is the learning rate.\n",
    "Recall the **Stochastic Gradient Descent** we learned in previous Jupyter notebook, here we will implement it for updating the network weights and biases in backpropagation.\n",
    "\n",
    "#### Step 5: Iterate\n",
    "1. Repeat Steps 2-4 for each epoch (an epoch is one pass through the entire training set) or until the network achieves satisfactory performance.\n",
    "\n",
    "#### Step 6: Evaluation\n",
    "1. After training, evaluate the performance of the network on a separate test set.\n",
    "2. Adjust parameters (like learning rate, number of hidden units) as necessary.\n",
    "\n",
    "#### Step 7: Prediction\n",
    "1. Use the trained network to make predictions. This involves conducting a forward pass through the network using the new input data.\n",
    "\n",
    "\n",
    "## 3. Implementation\n",
    "\n",
    "### 3.1 Dataset\n",
    "In this Jupyter notebook, we will use the '*Fashion-MNIS'* dataset. This dataset is particularly popular in the machine learning community for benchmarking image classification algorithms, due to its moderate complexity and the fact that it avoids some of the issues present in the original MNIST dataset. We can load this dataset with the **tensorflow**.keras.datasets package.\n",
    "\n",
    "The Fashion-MNIST dataset is a collection of grayscale images used for image classification. It's designed as a more complex, but equally accessible, alternative to the original MNIST dataset, which features handwritten digits. The key characteristics of the Fashion-MNIST dataset are as follows:\n",
    "\n",
    "1. **Content**: It contains 70,000 grayscale images in 10 fashion categories. Each image shows a single article of clothing at low resolution (28 pixels by 28 pixels).\n",
    "\n",
    "2. **Categories**: The 10 categories are T-shirt/top, Trouser, Pullover, Dress, Coat, Sandal, Shirt, Sneaker, Bag, and Ankle boot.\n",
    "\n",
    "3. **Data Split**: The dataset is split into a training set of 60,000 images and a test set of 10,000 images. This standard split is used to train and evaluate machine learning models.\n",
    "\n",
    "### 3.2 Tensorflow\n",
    "TensorFlow is an open-source machine learning library developed by Google Brain, designed for both research and production in artificial intelligence (AI) and machine learning (ML). It offers a comprehensive, flexible ecosystem of tools, libraries, and community resources that allows researchers to push the state-of-the-art in ML and developers to easily build and deploy ML-powered applications. TensorFlow is particularly known for its powerful computational abilities, which enable the efficient processing and analysis of large datasets, especially through its use of dataflow graphs. It supports a wide range of tasks, primarily focusing on training and inference of deep neural networks for disciplines like computer vision, natural language processing, and predictive analytics.\n",
    "\n",
    "TensorFlow is not just limited to professional researchers or large-scale enterprises; its user-friendly interface and extensive documentation make it accessible to hobbyists and beginners in machine learning. The platform is compatible across various computing platforms, including desktops, servers, and mobile devices, enhancing its versatility and scope of application. With a robust community of contributors and an ever-growing suite of functionalities, TensorFlow continues to be a leading framework in the dynamic landscape of machine learning and AI development.\n",
    "\n",
    "We can run the following code to load the dataset with tensorflow package:"
   ]
  },
  {
   "cell_type": "code",
   "execution_count": 64,
   "id": "32c87023",
   "metadata": {},
   "outputs": [],
   "source": [
    "from tensorflow import keras \n",
    "import numpy as np\n",
    "import matplotlib.pyplot as plt\n",
    "from keras.datasets import fashion_mnist\n",
    "from sklearn.preprocessing import StandardScaler\n",
    "from sklearn.metrics import accuracy_score\n",
    "from sklearn.metrics import classification_report "
   ]
  },
  {
   "cell_type": "code",
   "execution_count": 88,
   "id": "3367f109",
   "metadata": {},
   "outputs": [],
   "source": [
    "(train_X, train_y), (test_X, test_y) = fashion_mnist.load_data()"
   ]
  },
  {
   "cell_type": "code",
   "execution_count": 89,
   "id": "717432a5",
   "metadata": {},
   "outputs": [
    {
     "name": "stdout",
     "output_type": "stream",
     "text": [
      "np.shape(train_X) =(60000, 28, 28)\n",
      "np.shape(test_X) = (10000, 28, 28) \n",
      "\n",
      "np.shape(train_X[0]) = (28, 28)\n",
      "np.shape(test_X[0]) = (28, 28) \n",
      "\n"
     ]
    }
   ],
   "source": [
    "# This cell should be run inplace of the cell directly above\n",
    "print(f\"np.shape(train_X) ={np.shape(train_X)}\")\n",
    "print(f\"np.shape(test_X) = {np.shape(test_X)} \\n\")\n",
    "\n",
    "print(f\"np.shape(train_X[0]) = {np.shape(train_X[0])}\")\n",
    "print(f\"np.shape(test_X[0]) = {np.shape(test_X[0])} \\n\")\n"
   ]
  },
  {
   "cell_type": "code",
   "execution_count": 90,
   "id": "8de5b565",
   "metadata": {},
   "outputs": [
    {
     "name": "stdout",
     "output_type": "stream",
     "text": [
      "train_y[0] = 9 \n",
      "\n"
     ]
    },
    {
     "data": {
      "image/png": "[encoded data removed]",
      "text/plain": [
       "<Figure size 600x500 with 1 Axes>"
      ]
     },
     "metadata": {},
     "output_type": "display_data"
    }
   ],
   "source": [
    "print(f\"{train_y[0] = } \\n\")\n",
    "plt.figure(figsize=(6, 5))\n",
    "plt.imshow(train_X[0], cmap=\"gray\")\n",
    "plt.show()"
   ]
  },
  {
   "cell_type": "markdown",
   "id": "af441383",
   "metadata": {},
   "source": [
    "After loading the dataset, we need to process the data for training:"
   ]
  },
  {
   "cell_type": "code",
   "execution_count": 91,
   "id": "9ad79772",
   "metadata": {},
   "outputs": [],
   "source": [
    "# Scale the data for training. \n",
    "train_X = train_X/255\n",
    "test_X = test_X/255\n",
    "\n",
    "# Flatten the training images into coloumn vectors. \n",
    "flat_train_X = []\n",
    "# One hot encode the training labels\n",
    "onehot_train_y = []\n",
    "\n",
    "for x, y in zip(train_X, train_y):\n",
    "    flat_train_X.append(x.flatten().reshape(784, 1))\n",
    "    temp_vec = np.zeros((10, 1))\n",
    "    temp_vec[y][0] = 1.0\n",
    "    onehot_train_y.append(temp_vec)\n",
    "# Do the same for testing data\n",
    "flat_test_X = []\n",
    "onehot_test_y = []\n",
    "\n",
    "for x, y in zip(test_X, test_y):\n",
    "    flat_test_X.append(x.flatten().reshape(784, 1))\n",
    "    temp_vec = np.zeros((10, 1))\n",
    "    temp_vec[y] = 1.0\n",
    "    onehot_test_y.append(temp_vec)"
   ]
  },
  {
   "cell_type": "markdown",
   "id": "61494c2b",
   "metadata": {},
   "source": [
    "Next, we need to build functions that are needed for our MLP."
   ]
  },
  {
   "cell_type": "code",
   "execution_count": 92,
   "id": "40d41cef",
   "metadata": {},
   "outputs": [],
   "source": [
    "def sigmoid(z):\n",
    "    return 1.0/(1.0+np.exp(-z))\n",
    "\n",
    "def d_sigmoid(z):\n",
    "    return sigmoid(z)*(1.0 - sigmoid(z))\n",
    "\n",
    "def mse(a, y):\n",
    "    return .5*sum((a[i] - y[i])**2 for i in range(10))[0]"
   ]
  },
  {
   "cell_type": "code",
   "execution_count": 93,
   "id": "4a73b80b",
   "metadata": {},
   "outputs": [],
   "source": [
    "def initialize_weights(layers = [784, 60, 60, 10]):\n",
    "    # The following Python lists will contain numpy matrices\n",
    "    # connected the layers in the neural network \n",
    "    W = [[0.0]]\n",
    "    B = [[0.0]]\n",
    "    for i in range(1, len(layers)):\n",
    "        # The scalling factor is something I found in a research paper :)\n",
    "        w_temp = np.random.randn(layers[i], layers[i-1])*np.sqrt(2/layers[i-1])\n",
    "        b_temp = np.random.randn(layers[i], 1)*np.sqrt(2/layers[i-1])\n",
    "    \n",
    "        W.append(w_temp)\n",
    "        B.append(b_temp)\n",
    "    return W, B"
   ]
  },
  {
   "cell_type": "code",
   "execution_count": 94,
   "id": "c1bc02a2",
   "metadata": {},
   "outputs": [
    {
     "name": "stdout",
     "output_type": "stream",
     "text": [
      "np.shape(a0) = (784, 1) \n",
      "\n",
      "np.shape(W[1]) = (60, 784)\n",
      "np.shape(z1) = (60, 1)\n",
      "np.shape(a1) = (60, 1) \n",
      "\n",
      "np.shape(W[2]) = (60, 60)\n",
      "np.shape(z2) = (60, 1)\n",
      "np.shape(a2) = (60, 1) \n",
      "\n",
      "np.shape(W[3]) = (10, 60)\n",
      "np.shape(z3) = (10, 1)\n",
      "np.shape(a3) = (10, 1) \n",
      "\n",
      "Prediction: np.argmax(y_hat) = 8\n",
      "Target Label: np.argmax(yi) = 9\n",
      "mse(y_hat, yi) = 1.2168318059913834\n"
     ]
    }
   ],
   "source": [
    "W, B = initialize_weights()\n",
    "\n",
    "xi = flat_train_X[0]\n",
    "yi = onehot_train_y[0]\n",
    "a0 = xi\n",
    "\n",
    "print(f\"np.shape(a0) = {np.shape(a0)} \\n\")\n",
    "\n",
    "z1 = W[1] @ a0 + B[1]\n",
    "a1 = sigmoid(z1)\n",
    "\n",
    "print(f\"np.shape(W[1]) = {np.shape(W[1])}\")\n",
    "print(f\"np.shape(z1) = {np.shape(z1)}\")\n",
    "print(f\"np.shape(a1) = {np.shape(a1)} \\n\")\n",
    "\n",
    "z2 = W[2] @ a1 + B[2]\n",
    "a2 = sigmoid(z2)\n",
    "\n",
    "print(f\"np.shape(W[2]) = {np.shape(W[2])}\")\n",
    "print(f\"np.shape(z2) = {np.shape(z2)}\")\n",
    "print(f\"np.shape(a2) = {np.shape(a2)} \\n\")\n",
    "\n",
    "z3 = W[3] @ a2 + B[3]\n",
    "a3 = sigmoid(z3)\n",
    "y_hat = a3\n",
    "print(f\"np.shape(W[3]) = {np.shape(W[3])}\")\n",
    "print(f\"np.shape(z3) = {np.shape(z3)}\")\n",
    "print(f\"np.shape(a3) = {np.shape(a3)} \\n\")\n",
    "\n",
    "\n",
    "print(f\"Prediction: np.argmax(y_hat) = {np.argmax(y_hat)}\")\n",
    "print(f\"Target Label: np.argmax(yi) = {np.argmax(yi)}\")\n",
    "print(f\"mse(y_hat, yi) = {mse(y_hat, yi)}\")"
   ]
  },
  {
   "cell_type": "code",
   "execution_count": 95,
   "id": "2c7670f4",
   "metadata": {},
   "outputs": [
    {
     "name": "stdout",
     "output_type": "stream",
     "text": [
      "Prediction: np.argmax(y_hat) = 8\n",
      "Target Label: np.argmax(yi) = 9\n",
      "mse(y_hat, yi) = 1.2168318059913834\n"
     ]
    }
   ],
   "source": [
    "def forward_pass(W, B, xi, predict_vector = False):\n",
    "    Z = [[0.0]]\n",
    "    A = [xi]\n",
    "    L = len(W) - 1\n",
    "    for i in range(1, L + 1):\n",
    "        z = W[i] @ A[i-1] + B[i]\n",
    "        Z.append(z)\n",
    "        \n",
    "        a = sigmoid(z)\n",
    "        A.append(a)\n",
    "        \n",
    "    if predict_vector == False:\n",
    "        return Z, A\n",
    "    else:\n",
    "        return A[-1]\n",
    "\n",
    "def predict(W, B, xi):\n",
    "    _, A = forward_pass(W, B, xi)\n",
    "    return np.argmax(A[-1])\n",
    "\n",
    "y_hat = forward_pass(W, B, flat_train_X[0], predict_vector=True)\n",
    "print(f\"Prediction: np.argmax(y_hat) = {np.argmax(y_hat)}\")\n",
    "print(f\"Target Label: np.argmax(yi) = {np.argmax(yi)}\")\n",
    "print(f\"mse(y_hat, yi) = {mse(y_hat, yi)}\")"
   ]
  },
  {
   "cell_type": "code",
   "execution_count": 96,
   "id": "c6a89962",
   "metadata": {},
   "outputs": [],
   "source": [
    "def random_experiment(W, B, data_features, data_labels):\n",
    "    i = np.random.randint(len(data_features))\n",
    "    print(f\"Actual label: {np.argmax(data_labels[i])}\")\n",
    "    print(f\"Predicted label: {predict(W, B, data_features[i])}\")\n",
    "    \n",
    "\n",
    "def MSE(W, B, X, y):\n",
    "    cost = 0.0\n",
    "    m = 0\n",
    "    for xi, yi in zip(X, y):\n",
    "        a = forward_pass(W, B, xi, predict_vector = True)\n",
    "        cost += mse(a, yi)\n",
    "        m+=1\n",
    "    return cost/m"
   ]
  },
  {
   "cell_type": "code",
   "execution_count": 97,
   "id": "d31cffa5",
   "metadata": {},
   "outputs": [
    {
     "name": "stdout",
     "output_type": "stream",
     "text": [
      "MSE(W, B, flat_train_X, onehot_train_y) = 0.9595191983103664 \n",
      "\n",
      "Actual label: 6\n",
      "Predicted label: 8\n"
     ]
    }
   ],
   "source": [
    "print(f\"MSE(W, B, flat_train_X, onehot_train_y) = {MSE(W, B, flat_train_X, onehot_train_y)} \\n\")\n",
    "\n",
    "random_experiment(W, B, flat_train_X, onehot_train_y)"
   ]
  },
  {
   "cell_type": "code",
   "execution_count": 98,
   "id": "e1b94539",
   "metadata": {},
   "outputs": [],
   "source": [
    "class DenseNetwork(object):\n",
    "    \"\"\"\n",
    "    This class implements a dense, feedforward neural network (Multilayer Perceptron).\n",
    "\n",
    "    Attributes:\n",
    "        layers (list): A list containing the number of units in each layer of the network.\n",
    "        W (list): Weights matrices for each layer of the network.\n",
    "        B (list): Bias vectors for each layer of the network.\n",
    "        errors_ (list): A list to store the mean squared error after each epoch during training.\n",
    "\n",
    "    Methods:\n",
    "        __init__(self, layers): Constructor for the DenseNetwork class. Initializes the network's layers, weights, and biases.\n",
    "        train(self, X_train, y_train, alpha, epochs): Trains the neural network using stochastic gradient descent.\n",
    "        predict(self, xi): Predicts the output for a given input xi.\n",
    "\n",
    "    Parameters:\n",
    "        layers (list): A list of integers where each integer represents the number of neurons in a layer.\n",
    "                       Example format: [input_layer_size, hidden_layer1_size, ..., output_layer_size]\n",
    "        X_train (array): The input data for training the model.\n",
    "        y_train (array): The target output data for training the model.\n",
    "        alpha (float): The learning rate for the training process.\n",
    "        epochs (int): The number of passes through the entire training dataset.\n",
    "\n",
    "    Usage Example:\n",
    "        >>> net = DenseNetwork(layers = [784, 60, 60, 10])\n",
    "        >>> net.train(X_train, y_train, alpha = 0.046, epochs = 4)\n",
    "        >>> prediction = net.predict(new_input)\n",
    "    \"\"\"\n",
    "    def __init__(self, layers = [784, 60, 60, 10]):\n",
    "        self.layers = layers\n",
    "        self.W, self.B = initialize_weights(layers = self.layers)\n",
    "\n",
    "    def train(self, X_train, y_train, alpha = 0.046, epochs = 4):\n",
    "        # Print the initial mean squared error\n",
    "        self.errors_ = [MSE(self.W, self.B, X_train, y_train)]\n",
    "        print(f\"Starting Cost = {self.errors_[0]}\")\n",
    "\n",
    "        # Find your sample size\n",
    "        sample_size = len(X_train)\n",
    "\n",
    "        # Find the number of non-input layers.\n",
    "        L = len(self.layers) - 1\n",
    "\n",
    "        # For each epoch perform stochastic gradient descent. \n",
    "        for k in range(epochs):\n",
    "            # Loop over each (xi, yi) training pair of data.\n",
    "            for xi, yi in zip(X_train, y_train):\n",
    "                # Use the forward pass function defined before\n",
    "                # and find the preactivation and postactivation values.\n",
    "                Z, A = forward_pass(self.W, self.B, xi)\n",
    "\n",
    "                # Store the errors in a dictionary for clear interpretation\n",
    "                # of computation of these values.\n",
    "                deltas = dict()\n",
    "\n",
    "                # Compute the output error \n",
    "                output_error = (A[L] - yi)*d_sigmoid(Z[L])\n",
    "                deltas[L] = output_error\n",
    "\n",
    "                # Loop from L-1 to 1. Recall the right entry of the range function \n",
    "                # is non-inclusive. \n",
    "                for i in range(L-1, 0, -1):\n",
    "                    # Compute the node errors at each hidden layer\n",
    "                    deltas[i] = (self.W[i+1].T @ deltas[i+1])*d_sigmoid(Z[i])\n",
    "\n",
    "                # Loop over each hidden layer and the output layer to perform gradient \n",
    "                # descent. \n",
    "                for i in range(1, L+1):\n",
    "                    self.W[i] -= alpha*deltas[i] @ A[i-1].T\n",
    "                    self.B[i] -= alpha*deltas[i]\n",
    "\n",
    "            # Show the user the cost over all training examples\n",
    "            self.errors_.append(MSE(self.W, self.B, X_train, y_train))   \n",
    "            print(f\"{k + 1}-Epoch Cost = {self.errors_[-1]}\")\n",
    "    \n",
    "\n",
    "    def predict(self, xi):\n",
    "        depth = len(self.layers)\n",
    "        _, A = forward_pass(self.W, self.B, xi)\n",
    "        return np.argmax(A[-1])"
   ]
  },
  {
   "cell_type": "code",
   "execution_count": 99,
   "id": "4042d7b9",
   "metadata": {},
   "outputs": [
    {
     "name": "stdout",
     "output_type": "stream",
     "text": [
      "MSE(net.W, net.B, flat_train_X, onehot_train_y) = 1.8268645638206764 \n",
      "\n",
      "predicted digit is: 8\n",
      "actual digit is: 1\n"
     ]
    },
    {
     "data": {
      "image/png": "[encoded data removed]",
      "text/plain": [
       "<Figure size 800x800 with 1 Axes>"
      ]
     },
     "metadata": {},
     "output_type": "display_data"
    }
   ],
   "source": [
    "# Initialize a network with 784 input nodes, two hidden layers with 60 nodes each \n",
    "# and a output layer with 10 nodes. \n",
    "net = DenseNetwork(layers = [784, 120, 145, 120, 10])\n",
    "\n",
    "# Check the mean squared error before training \n",
    "print(f\"MSE(net.W, net.B, flat_train_X, onehot_train_y) = {MSE(net.W, net.B, flat_train_X, onehot_train_y)} \\n\")\n",
    "\n",
    "# Make a random prediction before training\n",
    "i = np.random.randint(0, len(flat_test_X))\n",
    "prediction = net.predict(flat_test_X[i])\n",
    "print(f\"predicted digit is: {prediction}\")\n",
    "print(f\"actual digit is: {np.argmax(onehot_test_y[i])}\")\n",
    "plt.figure(figsize=(8, 8))\n",
    "plt.imshow(test_X[i], cmap=\"gray\")\n",
    "plt.show()\n"
   ]
  },
  {
   "cell_type": "markdown",
   "id": "5edbf114",
   "metadata": {},
   "source": [
    "From the prediction results above, we can observe that the model did not perform well on our test data, as indicated by the large mean squared error of 1.83. Now, let's train our network using stochastic gradient descent to see if there's an improvement in accuracy."
   ]
  },
  {
   "cell_type": "code",
   "execution_count": 100,
   "id": "910949de",
   "metadata": {},
   "outputs": [
    {
     "name": "stdout",
     "output_type": "stream",
     "text": [
      "Starting Cost = 1.8268645638206764\n",
      "1-Epoch Cost = 0.1315190536714352\n",
      "2-Epoch Cost = 0.11399800411609208\n",
      "3-Epoch Cost = 0.10433855887381287\n",
      "4-Epoch Cost = 0.09652834594971352\n"
     ]
    }
   ],
   "source": [
    "net.train(flat_train_X, onehot_train_y)"
   ]
  },
  {
   "cell_type": "code",
   "execution_count": 101,
   "id": "05150f8c",
   "metadata": {},
   "outputs": [
    {
     "data": {
      "image/png": "[encoded data removed]",
      "text/plain": [
       "<Figure size 1000x800 with 1 Axes>"
      ]
     },
     "metadata": {},
     "output_type": "display_data"
    }
   ],
   "source": [
    "# Visualize the mean squared error over the training process \n",
    "plt.figure(figsize = (10, 8))\n",
    "epochs = range(len(net.errors_))\n",
    "plt.plot(epochs, net.errors_, marker = \"o\")\n",
    "plt.xticks(epochs)\n",
    "plt.xlabel(\"epochs\")\n",
    "plt.ylabel(\"Mean Squared Error\")\n",
    "plt.title(\"Network MSE During Training\", fontsize = 16)\n",
    "plt.show()"
   ]
  },
  {
   "cell_type": "markdown",
   "id": "5f5a912e",
   "metadata": {},
   "source": [
    "From the plot, it is evident that the network's Mean Squared Error (MSE) has decreased dramatically during the training. Now, let's check our prediction results and accuracy, comparing them with the results obtained before training."
   ]
  },
  {
   "cell_type": "code",
   "execution_count": 102,
   "id": "053bcd22",
   "metadata": {},
   "outputs": [
    {
     "name": "stdout",
     "output_type": "stream",
     "text": [
      "predicted digit is: 0\n",
      "actual digit is: 0\n"
     ]
    },
    {
     "data": {
      "image/png": "[encoded data removed]",
      "text/plain": [
       "<Figure size 800x800 with 1 Axes>"
      ]
     },
     "metadata": {},
     "output_type": "display_data"
    }
   ],
   "source": [
    "i = np.random.randint(0, len(flat_test_X))\n",
    "prediction = net.predict(flat_test_X[i])\n",
    "print(f\"predicted digit is: {prediction}\")\n",
    "print(f\"actual digit is: {np.argmax(onehot_test_y[i])}\")\n",
    "plt.figure(figsize=(8, 8))\n",
    "plt.imshow(test_X[i], cmap=\"gray\")\n",
    "plt.show()"
   ]
  },
  {
   "cell_type": "code",
   "execution_count": 103,
   "id": "26e5a642",
   "metadata": {},
   "outputs": [
    {
     "data": {
      "text/plain": [
       "0.851"
      ]
     },
     "execution_count": 103,
     "metadata": {},
     "output_type": "execute_result"
    }
   ],
   "source": [
    "# Compute the classification accuracy of our trained model on the test data (I bet we did well!)\n",
    "sum([int(net.predict(x) == y) for x, y in zip(flat_test_X, test_y)])/len(onehot_test_y)"
   ]
  },
  {
   "cell_type": "markdown",
   "id": "147c2791",
   "metadata": {},
   "source": [
    "Great job! The prediction for a randomly selected picture matches its actual label. Furthermore, the classification accuracy of our trained model on the test data is 0.851, which is a pretty impressive result!"
   ]
  },
  {
   "cell_type": "markdown",
   "id": "5edf142b",
   "metadata": {},
   "source": [
    "## 4. Conclusion\n",
    "Multilayer Perceptrons, a fundamental type of neural network, have proven to be a versatile and powerful tool in the field of machine learning. Characterized by their layered structure of interconnected nodes or neurons, MLPs excel in tasks involving pattern recognition, classification, and regression. They are particularly adept at handling complex, non-linear problems, making them suitable for a wide range of applications, from image and speech recognition to financial forecasting.\n",
    "\n",
    "The strength of MLPs lies in their ability to learn and model intricate relationships in data through a process of training and backpropagation, where errors are used to adjust the weights of connections for improved performance. This ability to learn from data makes them highly adaptable to various tasks."
   ]
  }
 ],
 "metadata": {
  "kernelspec": {
   "display_name": "Python 3 (ipykernel)",
   "language": "python",
   "name": "python3"
  },
  "language_info": {
   "codemirror_mode": {
    "name": "ipython",
    "version": 3
   },
   "file_extension": ".py",
   "mimetype": "text/x-python",
   "name": "python",
   "nbconvert_exporter": "python",
   "pygments_lexer": "ipython3",
   "version": "3.11.5"
  }
 },
 "nbformat": 4,
 "nbformat_minor": 5
}
